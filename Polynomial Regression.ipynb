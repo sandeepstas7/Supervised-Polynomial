{
 "cells": [
  {
   "cell_type": "markdown",
   "metadata": {},
   "source": [
    "### Polynomial Regression"
   ]
  },
  {
   "cell_type": "code",
   "execution_count": 1,
   "metadata": {},
   "outputs": [],
   "source": [
    "# Polynomial Regression is a non linear regression model\n",
    "# y = b0 + b1x1 + b2x1^2 + b3x1^3 + .......+ bnx1^n\n",
    "# Its quite similar to mutiple  lin reg instead of having different independent variables like x1,x2,...xn here in polynomial \n",
    "# lin reg we have only one variable(ex: x1) with different power"
   ]
  },
  {
   "cell_type": "code",
   "execution_count": 53,
   "metadata": {},
   "outputs": [],
   "source": [
    "import numpy as np\n",
    "import pandas as pd\n",
    "import matplotlib.pyplot as plt"
   ]
  },
  {
   "cell_type": "code",
   "execution_count": 54,
   "metadata": {},
   "outputs": [
    {
     "data": {
      "text/plain": [
       "'C:\\\\Users\\\\HP\\\\Desktop\\\\Machine Learning A-Z\\\\Part 2 - Regression\\\\Section 7 - Support Vector Regression (SVR)'"
      ]
     },
     "execution_count": 54,
     "metadata": {},
     "output_type": "execute_result"
    }
   ],
   "source": [
    "import os\n",
    "os.getcwd()"
   ]
  },
  {
   "cell_type": "code",
   "execution_count": 55,
   "metadata": {},
   "outputs": [],
   "source": [
    "os.chdir('C:\\\\Users\\\\HP\\\\Desktop\\\\Machine Learning A-Z\\\\Part 2 - Regression\\\\Section 7 - Support Vector Regression (SVR)')"
   ]
  },
  {
   "cell_type": "code",
   "execution_count": 56,
   "metadata": {},
   "outputs": [
    {
     "data": {
      "text/html": [
       "<div>\n",
       "<style scoped>\n",
       "    .dataframe tbody tr th:only-of-type {\n",
       "        vertical-align: middle;\n",
       "    }\n",
       "\n",
       "    .dataframe tbody tr th {\n",
       "        vertical-align: top;\n",
       "    }\n",
       "\n",
       "    .dataframe thead th {\n",
       "        text-align: right;\n",
       "    }\n",
       "</style>\n",
       "<table border=\"1\" class=\"dataframe\">\n",
       "  <thead>\n",
       "    <tr style=\"text-align: right;\">\n",
       "      <th></th>\n",
       "      <th>Position</th>\n",
       "      <th>Level</th>\n",
       "      <th>Salary</th>\n",
       "    </tr>\n",
       "  </thead>\n",
       "  <tbody>\n",
       "    <tr>\n",
       "      <th>0</th>\n",
       "      <td>Business Analyst</td>\n",
       "      <td>1</td>\n",
       "      <td>45000</td>\n",
       "    </tr>\n",
       "    <tr>\n",
       "      <th>1</th>\n",
       "      <td>Junior Consultant</td>\n",
       "      <td>2</td>\n",
       "      <td>50000</td>\n",
       "    </tr>\n",
       "    <tr>\n",
       "      <th>2</th>\n",
       "      <td>Senior Consultant</td>\n",
       "      <td>3</td>\n",
       "      <td>60000</td>\n",
       "    </tr>\n",
       "    <tr>\n",
       "      <th>3</th>\n",
       "      <td>Manager</td>\n",
       "      <td>4</td>\n",
       "      <td>80000</td>\n",
       "    </tr>\n",
       "    <tr>\n",
       "      <th>4</th>\n",
       "      <td>Country Manager</td>\n",
       "      <td>5</td>\n",
       "      <td>110000</td>\n",
       "    </tr>\n",
       "  </tbody>\n",
       "</table>\n",
       "</div>"
      ],
      "text/plain": [
       "            Position  Level  Salary\n",
       "0   Business Analyst      1   45000\n",
       "1  Junior Consultant      2   50000\n",
       "2  Senior Consultant      3   60000\n",
       "3            Manager      4   80000\n",
       "4    Country Manager      5  110000"
      ]
     },
     "execution_count": 56,
     "metadata": {},
     "output_type": "execute_result"
    }
   ],
   "source": [
    "data= pd.read_csv('Position_Salaries.csv')\n",
    "data.head()"
   ]
  },
  {
   "cell_type": "code",
   "execution_count": 57,
   "metadata": {},
   "outputs": [
    {
     "data": {
      "text/plain": [
       "(array([[ 1],\n",
       "        [ 2],\n",
       "        [ 3],\n",
       "        [ 4],\n",
       "        [ 5],\n",
       "        [ 6],\n",
       "        [ 7],\n",
       "        [ 8],\n",
       "        [ 9],\n",
       "        [10]], dtype=int64),\n",
       " array([  45000,   50000,   60000,   80000,  110000,  150000,  200000,\n",
       "         300000,  500000, 1000000], dtype=int64))"
      ]
     },
     "execution_count": 57,
     "metadata": {},
     "output_type": "execute_result"
    }
   ],
   "source": [
    "X = data.iloc[:,1:2].values\n",
    "y = data.iloc[:,2].values\n",
    "X,y"
   ]
  },
  {
   "cell_type": "code",
   "execution_count": 58,
   "metadata": {},
   "outputs": [],
   "source": [
    "#from sklearn.model_selection import train_test_split\n",
    "#X_train,X_test,y_train,y_test = train_test_split(X,y,test_size = 0.2,random_state = 0)\n",
    "\n",
    "# from sklearn.preprocessing import StandardScalar\n",
    "# sc_X = StandardScalar()\n",
    "# X_train = sc_X.fit_transform(X_train)\n",
    "# X_test = sc_X.fit_transform(X_test)\n",
    "\n",
    "#as dataset is too small we don't go for splitting\n",
    "#no need to apply feature scaling because we r going to use the same library as we use for linear regression,which is a library\n",
    "#that does the feature scaling to make more accurate predictions."
   ]
  },
  {
   "cell_type": "code",
   "execution_count": 59,
   "metadata": {},
   "outputs": [
    {
     "data": {
      "text/plain": [
       "LinearRegression(copy_X=True, fit_intercept=True, n_jobs=1, normalize=False)"
      ]
     },
     "execution_count": 59,
     "metadata": {},
     "output_type": "execute_result"
    }
   ],
   "source": [
    "# lets first bulid the linear regression model for the data and comapre results with the polynomial regresion model result.\n",
    "from sklearn.linear_model import LinearRegression\n",
    "lin_reg = LinearRegression()\n",
    "lin_reg.fit(X,y)"
   ]
  },
  {
   "cell_type": "code",
   "execution_count": 80,
   "metadata": {},
   "outputs": [
    {
     "data": {
      "text/plain": [
       "array([[1.000e+00, 1.000e+00, 1.000e+00, 1.000e+00, 1.000e+00],\n",
       "       [1.000e+00, 2.000e+00, 4.000e+00, 8.000e+00, 1.600e+01],\n",
       "       [1.000e+00, 3.000e+00, 9.000e+00, 2.700e+01, 8.100e+01],\n",
       "       [1.000e+00, 4.000e+00, 1.600e+01, 6.400e+01, 2.560e+02],\n",
       "       [1.000e+00, 5.000e+00, 2.500e+01, 1.250e+02, 6.250e+02],\n",
       "       [1.000e+00, 6.000e+00, 3.600e+01, 2.160e+02, 1.296e+03],\n",
       "       [1.000e+00, 7.000e+00, 4.900e+01, 3.430e+02, 2.401e+03],\n",
       "       [1.000e+00, 8.000e+00, 6.400e+01, 5.120e+02, 4.096e+03],\n",
       "       [1.000e+00, 9.000e+00, 8.100e+01, 7.290e+02, 6.561e+03],\n",
       "       [1.000e+00, 1.000e+01, 1.000e+02, 1.000e+03, 1.000e+04]])"
      ]
     },
     "execution_count": 80,
     "metadata": {},
     "output_type": "execute_result"
    }
   ],
   "source": [
    "# Now build polynomial regresssion model\n",
    "\n",
    "# So to create this model we r going to import a new class which is a simply a class which is going to give the tools to include\n",
    "# some polynomial terms into the linear regression equation and this class is actually called as polynomial features.\n",
    "\n",
    "from sklearn.preprocessing import PolynomialFeatures\n",
    "poly_reg = PolynomialFeatures(degree=4)\n",
    "X_poly = poly_reg.fit_transform(X)\n",
    "X_poly\n",
    "\n",
    "#looking at the original varaible 'X' matrix(position levels of employees in the company)and\n",
    "#here in new 'X_poly' matrix we have 3 columns ,notice that the position levels comes here  of 'X' is actually the column\n",
    "#in the middle that corresponds to X1 the independen variable.\n",
    "#the 2nd column in X_poly is square of the 1st column that is actually the polynomial term\n",
    "#1st column(index postion 0 or say X0) is nothing but when we done multiple linear regression model implementing backward\n",
    "#elemination had to add a column of ones to include constant b0 in our multp lin reg eqn \n",
    "# here in 'X_poly' its exactly the same, 'poly_reg' tool object that we created automatimatically creates the column of ones to\n",
    "# include the b0 "
   ]
  },
  {
   "cell_type": "code",
   "execution_count": 81,
   "metadata": {},
   "outputs": [
    {
     "data": {
      "text/plain": [
       "array([[ 1],\n",
       "       [ 2],\n",
       "       [ 3],\n",
       "       [ 4],\n",
       "       [ 5],\n",
       "       [ 6],\n",
       "       [ 7],\n",
       "       [ 8],\n",
       "       [ 9],\n",
       "       [10]], dtype=int64)"
      ]
     },
     "execution_count": 81,
     "metadata": {},
     "output_type": "execute_result"
    }
   ],
   "source": [
    "X"
   ]
  },
  {
   "cell_type": "code",
   "execution_count": 82,
   "metadata": {},
   "outputs": [
    {
     "data": {
      "text/plain": [
       "LinearRegression(copy_X=True, fit_intercept=True, n_jobs=1, normalize=False)"
      ]
     },
     "execution_count": 82,
     "metadata": {},
     "output_type": "execute_result"
    }
   ],
   "source": [
    "# One thing left to do is to include this fit into multiple linear regression  model\n",
    "# and to do this we r going to create a new linear regression object\n",
    "lin_reg2 = LinearRegression()\n",
    "lin_reg2.fit(X_poly,y)"
   ]
  },
  {
   "cell_type": "code",
   "execution_count": 83,
   "metadata": {},
   "outputs": [
    {
     "data": {
      "image/png": "[encoded data removed]",
      "text/plain": [
       "<matplotlib.figure.Figure at 0x2282c89de10>"
      ]
     },
     "metadata": {},
     "output_type": "display_data"
    }
   ],
   "source": [
    "# Visuaizing the Linear Regression results\n",
    "\n",
    "# lin.reg.predict(X) is the predicted salaries of the 10 position levels predicted by our linear regression model\n",
    "plt.scatter(X,y,color = 'red')\n",
    "plt.plot(X,lin_reg.predict(X),color = 'blue')\n",
    "plt.title('Truth or Bluff Linear regression')\n",
    "plt.xlabel('Position level')\n",
    "plt.ylabel('Salary')\n",
    "plt.show()\n",
    "\n",
    "# first of all lets make distinction between the observation points(red points) and the predictions which are the points on the \n",
    "# straight line(blue).\n",
    "# these are not great predictions except two points(something like 3,9.2) where the red points are really close to straight line\n",
    "# as u can seee its difficult to make a straight line that'll b close to all red points, and that's y v need to level up nd make\n",
    "# a non linear model that'll therefore not be a straight line and that'll make much better predictions(i.e much better predictd\n",
    "# salaries that'll help us in our negotiation)"
   ]
  },
  {
   "cell_type": "code",
   "execution_count": 84,
   "metadata": {},
   "outputs": [
    {
     "data": {
      "image/png": "[encoded data removed]",
      "text/plain": [
       "<matplotlib.figure.Figure at 0x2282c8fb358>"
      ]
     },
     "metadata": {},
     "output_type": "display_data"
    }
   ],
   "source": [
    "#visualizing the polynomial Regression results\n",
    "\n",
    "### here we imagines that we simply need to replace this \"lin_reg by lin_reg2\" which is the object we created for our polynomail\n",
    "# regression but u can notice that this lin_reg2 object is actually not enough object of certain polynomial regression class,\n",
    "# it's still an object from LinearRegression() class\n",
    "# so we need to add something in plt.plot(X,......,color='blue') to get the predictions of our polynomial regression model\n",
    "# So basically we transformed our matrix of features X into matrix of features of X_poly containing the position levels\n",
    "# and v actually need to include that information here in plt.plot(X,......,color='blue')\n",
    "\n",
    "#  Since X_poly was already defined as the transformation of our matrix of features,well if we want to add some new observations\n",
    "#  and to plot some polynomial regression result we would rather take fully fit (poly_reg.fit_transform(X)) in plt.plot() that\n",
    "# transforms any matrix of features u want instead of X_poly in plt.plot(X,......,color='blue')\n",
    "\n",
    "plt.scatter(X,y,color = 'red')\n",
    "plt.plot(X,lin_reg2.predict(poly_reg.fit_transform(X)),color = 'blue')\n",
    "plt.title('Truth or Bluff Polynomial regression')\n",
    "plt.xlabel('Position level')\n",
    "plt.ylabel('Salary')\n",
    "plt.show()"
   ]
  },
  {
   "cell_type": "code",
   "execution_count": 79,
   "metadata": {},
   "outputs": [],
   "source": [
    "# A linear model in two dimension will give u a straight line\n",
    "# And a non linear model will give u anything(like curves, parabolic curves) except straight line\n",
    "\n",
    "# By changing the degrees in PolynomialFeatures(degree = 2 or 3 or 4) the prediction rate also improves\n",
    "\n",
    "#from sklearn.preprocessing import PolynomialFeatures\n",
    "#poly_reg = PolynomialFeatures(degree=3)\n",
    "#X_poly = poly_reg.fit_transform(X)\n",
    "#X_poly\n",
    "\n",
    "# run the below code after changing the degree values and observe the difference with  previous plot\n",
    "#plt.scatter(X,y,color = 'red')\n",
    "#plt.plot(X,lin_reg2.predict(poly_reg.fit_transform(X)),color = 'blue')\n",
    "#plt.title('Truth or Bluff Polynomial regression')\n",
    "#plt.xlabel('Position level')\n",
    "#plt.ylabel('Salary')\n",
    "#plt.show()"
   ]
  },
  {
   "cell_type": "code",
   "execution_count": 87,
   "metadata": {},
   "outputs": [
    {
     "data": {
      "image/png": "[encoded data removed]",
      "text/plain": [
       "<matplotlib.figure.Figure at 0x2282c9bcf98>"
      ]
     },
     "metadata": {},
     "output_type": "display_data"
    }
   ],
   "source": [
    "# we can improve the plot in polynomial regression output with some advance technique\n",
    "# indeed what's happening here is that our code is giving us the predictions of the model for each of the 10  levels from 1-10\n",
    "# but it's plotting some straight lines in between two predictions.\n",
    "# v can actually have the real continuous curve by instead of having only the predictions from the 1 to 10 incremented 1, v can\n",
    "# have the predictions from 1 to 10 incremented by a higher resolution like a 0.1 \n",
    "\n",
    "X_grid = np.arange(min(X),max(X),0.1)\n",
    "X_grid = X_grid.reshape(len(X_grid),1)\n",
    "plt.scatter(X,y,color = 'red')\n",
    "plt.plot(X_grid,lin_reg2.predict(poly_reg.fit_transform(X_grid)),color = 'blue')\n",
    "plt.title('Truth or Bluff Polynomial regression')\n",
    "plt.xlabel('Position level')\n",
    "plt.ylabel('Salary')\n",
    "plt.show()"
   ]
  },
  {
   "cell_type": "code",
   "execution_count": 88,
   "metadata": {},
   "outputs": [
    {
     "data": {
      "text/plain": [
       "array([330378.78787879])"
      ]
     },
     "execution_count": 88,
     "metadata": {},
     "output_type": "execute_result"
    }
   ],
   "source": [
    "# Final step is to say truth or bluff by predicting the previous salary of this new employee(assume that he says us that his \n",
    "# previous salary was 160 K) and so we'll comapre this value to oor prediction to conclude\n",
    "\n",
    "\n",
    "# predicting the new result by Linear Regression model\n",
    "lin_reg.predict(6.5)           # level = 6.5, will return the predicted salary corresponding to this 6.5"
   ]
  },
  {
   "cell_type": "code",
   "execution_count": 89,
   "metadata": {},
   "outputs": [
    {
     "data": {
      "text/plain": [
       "array([158862.45265153])"
      ]
     },
     "execution_count": 89,
     "metadata": {},
     "output_type": "execute_result"
    }
   ],
   "source": [
    "#  predicting the new result by Polynomial Regression model\n",
    "lin_reg2.predict(poly_reg.fit_transform(6.5))"
   ]
  },
  {
   "cell_type": "code",
   "execution_count": null,
   "metadata": {},
   "outputs": [],
   "source": [
    "# So this future employee said his previous salary was 160K the linear regression model predicted that his previous salary was\n",
    "# 330K where polynomial regression predicted that it was 158K which is more accuarte\n",
    "# therefore actually the verdict is truth and honest"
   ]
  }
 ],
 "metadata": {
  "kernelspec": {
   "display_name": "Python 3",
   "language": "python",
   "name": "python3"
  },
  "language_info": {
   "codemirror_mode": {
    "name": "ipython",
    "version": 3
   },
   "file_extension": ".py",
   "mimetype": "text/x-python",
   "name": "python",
   "nbconvert_exporter": "python",
   "pygments_lexer": "ipython3",
   "version": "3.6.4"
  }
 },
 "nbformat": 4,
 "nbformat_minor": 2
}
